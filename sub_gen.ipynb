{
 "cells": [
  {
   "cell_type": "code",
   "execution_count": 1,
   "metadata": {},
   "outputs": [],
   "source": [
    "import pandas as pd"
   ]
  },
  {
   "cell_type": "code",
   "execution_count": 9,
   "metadata": {},
   "outputs": [],
   "source": [
    "df = pd.read_csv('./EPIC_100_train.csv')"
   ]
  },
  {
   "cell_type": "code",
   "execution_count": 3,
   "metadata": {},
   "outputs": [
    {
     "name": "stdout",
     "output_type": "stream",
     "text": [
      "04\n"
     ]
    }
   ],
   "source": [
    "USER_ID = \"P\" + input()"
   ]
  },
  {
   "cell_type": "code",
   "execution_count": 4,
   "metadata": {},
   "outputs": [
    {
     "name": "stdout",
     "output_type": "stream",
     "text": [
      "09\n"
     ]
    }
   ],
   "source": [
    "VIDEO_ID = input()"
   ]
  },
  {
   "cell_type": "code",
   "execution_count": 5,
   "metadata": {},
   "outputs": [],
   "source": [
    "OVERALL_ID = f\"{USER_ID}_{VIDEO_ID}\""
   ]
  },
  {
   "cell_type": "code",
   "execution_count": 10,
   "metadata": {},
   "outputs": [
    {
     "data": {
      "text/html": [
       "<div>\n",
       "<style scoped>\n",
       "    .dataframe tbody tr th:only-of-type {\n",
       "        vertical-align: middle;\n",
       "    }\n",
       "\n",
       "    .dataframe tbody tr th {\n",
       "        vertical-align: top;\n",
       "    }\n",
       "\n",
       "    .dataframe thead th {\n",
       "        text-align: right;\n",
       "    }\n",
       "</style>\n",
       "<table border=\"1\" class=\"dataframe\">\n",
       "  <thead>\n",
       "    <tr style=\"text-align: right;\">\n",
       "      <th></th>\n",
       "      <th>narration_id</th>\n",
       "      <th>participant_id</th>\n",
       "      <th>video_id</th>\n",
       "      <th>narration_timestamp</th>\n",
       "      <th>start_timestamp</th>\n",
       "      <th>stop_timestamp</th>\n",
       "      <th>start_frame</th>\n",
       "      <th>stop_frame</th>\n",
       "      <th>narration</th>\n",
       "      <th>verb</th>\n",
       "      <th>verb_class</th>\n",
       "      <th>noun</th>\n",
       "      <th>noun_class</th>\n",
       "      <th>all_nouns</th>\n",
       "      <th>all_noun_classes</th>\n",
       "    </tr>\n",
       "  </thead>\n",
       "  <tbody>\n",
       "    <tr>\n",
       "      <th>17302</th>\n",
       "      <td>P04_09_0</td>\n",
       "      <td>P04</td>\n",
       "      <td>P04_09</td>\n",
       "      <td>00:00:00.979</td>\n",
       "      <td>00:00:02.59</td>\n",
       "      <td>00:00:03.73</td>\n",
       "      <td>155</td>\n",
       "      <td>223</td>\n",
       "      <td>pick up sushi mat</td>\n",
       "      <td>pick-up</td>\n",
       "      <td>0</td>\n",
       "      <td>mat:sushi</td>\n",
       "      <td>259</td>\n",
       "      <td>['mat:sushi']</td>\n",
       "      <td>[259]</td>\n",
       "    </tr>\n",
       "    <tr>\n",
       "      <th>17303</th>\n",
       "      <td>P04_09_1</td>\n",
       "      <td>P04</td>\n",
       "      <td>P04_09</td>\n",
       "      <td>00:00:12.809</td>\n",
       "      <td>00:00:03.05</td>\n",
       "      <td>00:00:04.78</td>\n",
       "      <td>183</td>\n",
       "      <td>286</td>\n",
       "      <td>put away</td>\n",
       "      <td>put-away</td>\n",
       "      <td>1</td>\n",
       "      <td>mat:sushi</td>\n",
       "      <td>259</td>\n",
       "      <td>['mat:sushi']</td>\n",
       "      <td>[259]</td>\n",
       "    </tr>\n",
       "    <tr>\n",
       "      <th>17304</th>\n",
       "      <td>P04_09_10</td>\n",
       "      <td>P04</td>\n",
       "      <td>P04_09</td>\n",
       "      <td>00:01:08.550</td>\n",
       "      <td>00:01:05.59</td>\n",
       "      <td>00:01:06.77</td>\n",
       "      <td>3935</td>\n",
       "      <td>4006</td>\n",
       "      <td>pick up tupperware</td>\n",
       "      <td>pick-up</td>\n",
       "      <td>0</td>\n",
       "      <td>tupperware</td>\n",
       "      <td>23</td>\n",
       "      <td>['tupperware']</td>\n",
       "      <td>[23]</td>\n",
       "    </tr>\n",
       "    <tr>\n",
       "      <th>17305</th>\n",
       "      <td>P04_09_11</td>\n",
       "      <td>P04</td>\n",
       "      <td>P04_09</td>\n",
       "      <td>00:01:12.760</td>\n",
       "      <td>00:01:10.35</td>\n",
       "      <td>00:01:12.85</td>\n",
       "      <td>4221</td>\n",
       "      <td>4371</td>\n",
       "      <td>put tupperware in cupboard</td>\n",
       "      <td>put-in</td>\n",
       "      <td>5</td>\n",
       "      <td>tupperware</td>\n",
       "      <td>23</td>\n",
       "      <td>['tupperware', 'cupboard']</td>\n",
       "      <td>[23, 3]</td>\n",
       "    </tr>\n",
       "    <tr>\n",
       "      <th>17306</th>\n",
       "      <td>P04_09_12</td>\n",
       "      <td>P04</td>\n",
       "      <td>P04_09</td>\n",
       "      <td>00:01:13.900</td>\n",
       "      <td>00:01:18.32</td>\n",
       "      <td>00:01:19.63</td>\n",
       "      <td>4699</td>\n",
       "      <td>4777</td>\n",
       "      <td>pick up mug</td>\n",
       "      <td>pick-up</td>\n",
       "      <td>0</td>\n",
       "      <td>mug</td>\n",
       "      <td>13</td>\n",
       "      <td>['mug']</td>\n",
       "      <td>[13]</td>\n",
       "    </tr>\n",
       "  </tbody>\n",
       "</table>\n",
       "</div>"
      ],
      "text/plain": [
       "      narration_id participant_id video_id narration_timestamp  \\\n",
       "17302     P04_09_0            P04   P04_09        00:00:00.979   \n",
       "17303     P04_09_1            P04   P04_09        00:00:12.809   \n",
       "17304    P04_09_10            P04   P04_09        00:01:08.550   \n",
       "17305    P04_09_11            P04   P04_09        00:01:12.760   \n",
       "17306    P04_09_12            P04   P04_09        00:01:13.900   \n",
       "\n",
       "      start_timestamp stop_timestamp  start_frame  stop_frame  \\\n",
       "17302     00:00:02.59    00:00:03.73          155         223   \n",
       "17303     00:00:03.05    00:00:04.78          183         286   \n",
       "17304     00:01:05.59    00:01:06.77         3935        4006   \n",
       "17305     00:01:10.35    00:01:12.85         4221        4371   \n",
       "17306     00:01:18.32    00:01:19.63         4699        4777   \n",
       "\n",
       "                        narration      verb  verb_class        noun  \\\n",
       "17302           pick up sushi mat   pick-up           0   mat:sushi   \n",
       "17303                    put away  put-away           1   mat:sushi   \n",
       "17304          pick up tupperware   pick-up           0  tupperware   \n",
       "17305  put tupperware in cupboard    put-in           5  tupperware   \n",
       "17306                 pick up mug   pick-up           0         mug   \n",
       "\n",
       "       noun_class                   all_nouns all_noun_classes  \n",
       "17302         259               ['mat:sushi']            [259]  \n",
       "17303         259               ['mat:sushi']            [259]  \n",
       "17304          23              ['tupperware']             [23]  \n",
       "17305          23  ['tupperware', 'cupboard']          [23, 3]  \n",
       "17306          13                     ['mug']             [13]  "
      ]
     },
     "execution_count": 10,
     "metadata": {},
     "output_type": "execute_result"
    }
   ],
   "source": [
    "new_df = df[df[\"video_id\"] == OVERALL_ID]\n",
    "new_df.head()"
   ]
  },
  {
   "cell_type": "code",
   "execution_count": 11,
   "metadata": {},
   "outputs": [],
   "source": [
    "new_df = new_df.copy()\n",
    "new_df[\"start_time\"] = pd.to_datetime(new_df[\"start_timestamp\"])"
   ]
  },
  {
   "cell_type": "code",
   "execution_count": 12,
   "metadata": {},
   "outputs": [],
   "source": [
    "sorted_new_df = new_df.sort_values(\"start_time\").reset_index()"
   ]
  },
  {
   "cell_type": "code",
   "execution_count": 13,
   "metadata": {},
   "outputs": [],
   "source": [
    "with open(f'./{USER_ID}_subs/{OVERALL_ID}.srt', 'w') as sf:\n",
    "    for index, row in sorted_new_df.iterrows():\n",
    "        sf.write(f\"{index + 1}\\n\")\n",
    "        sf.write(f'{row[\"start_timestamp\"]} --> {row[\"stop_timestamp\"]}\\n')\n",
    "        sf.write(f'{row[\"narration\"]}\\n\\n')\n"
   ]
  },
  {
   "cell_type": "code",
   "execution_count": null,
   "metadata": {},
   "outputs": [],
   "source": []
  }
 ],
 "metadata": {
  "kernelspec": {
   "display_name": "Python 3 (ipykernel)",
   "language": "python",
   "name": "python3"
  },
  "language_info": {
   "codemirror_mode": {
    "name": "ipython",
    "version": 3
   },
   "file_extension": ".py",
   "mimetype": "text/x-python",
   "name": "python",
   "nbconvert_exporter": "python",
   "pygments_lexer": "ipython3",
   "version": "3.8.10"
  },
  "vscode": {
   "interpreter": {
    "hash": "d79f75677cd3093c48103dcb88ce6c3690cdcc95e96a4e0cf5603a5cf721c95e"
   }
  }
 },
 "nbformat": 4,
 "nbformat_minor": 2
}
