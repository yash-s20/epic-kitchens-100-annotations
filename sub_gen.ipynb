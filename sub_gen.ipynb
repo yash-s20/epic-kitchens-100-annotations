{
 "cells": [
  {
   "cell_type": "code",
   "execution_count": 17,
   "metadata": {},
   "outputs": [],
   "source": [
    "import pandas as pd"
   ]
  },
  {
   "cell_type": "code",
   "execution_count": 50,
   "metadata": {},
   "outputs": [],
   "source": [
    "df = pd.read_csv('./EPIC_100_train.csv')"
   ]
  },
  {
   "cell_type": "code",
   "execution_count": 51,
   "metadata": {},
   "outputs": [],
   "source": [
    "USER_ID = \"P07\""
   ]
  },
  {
   "cell_type": "code",
   "execution_count": 52,
   "metadata": {},
   "outputs": [],
   "source": [
    "VIDEO_ID = \"04\""
   ]
  },
  {
   "cell_type": "code",
   "execution_count": 53,
   "metadata": {},
   "outputs": [],
   "source": [
    "OVERALL_ID = f\"{USER_ID}_{VIDEO_ID}\""
   ]
  },
  {
   "cell_type": "code",
   "execution_count": 54,
   "metadata": {},
   "outputs": [
    {
     "data": {
      "text/html": [
       "<div>\n",
       "<style scoped>\n",
       "    .dataframe tbody tr th:only-of-type {\n",
       "        vertical-align: middle;\n",
       "    }\n",
       "\n",
       "    .dataframe tbody tr th {\n",
       "        vertical-align: top;\n",
       "    }\n",
       "\n",
       "    .dataframe thead th {\n",
       "        text-align: right;\n",
       "    }\n",
       "</style>\n",
       "<table border=\"1\" class=\"dataframe\">\n",
       "  <thead>\n",
       "    <tr style=\"text-align: right;\">\n",
       "      <th></th>\n",
       "      <th>narration_id</th>\n",
       "      <th>participant_id</th>\n",
       "      <th>video_id</th>\n",
       "      <th>narration_timestamp</th>\n",
       "      <th>start_timestamp</th>\n",
       "      <th>stop_timestamp</th>\n",
       "      <th>start_frame</th>\n",
       "      <th>stop_frame</th>\n",
       "      <th>narration</th>\n",
       "      <th>verb</th>\n",
       "      <th>verb_class</th>\n",
       "      <th>noun</th>\n",
       "      <th>noun_class</th>\n",
       "      <th>all_nouns</th>\n",
       "      <th>all_noun_classes</th>\n",
       "    </tr>\n",
       "  </thead>\n",
       "  <tbody>\n",
       "    <tr>\n",
       "      <th>26047</th>\n",
       "      <td>P07_04_0</td>\n",
       "      <td>P07</td>\n",
       "      <td>P07_04</td>\n",
       "      <td>00:00:08.180</td>\n",
       "      <td>00:00:07.58</td>\n",
       "      <td>00:00:13.58</td>\n",
       "      <td>454</td>\n",
       "      <td>814</td>\n",
       "      <td>wash forks</td>\n",
       "      <td>wash</td>\n",
       "      <td>2</td>\n",
       "      <td>fork</td>\n",
       "      <td>14</td>\n",
       "      <td>['fork']</td>\n",
       "      <td>[14]</td>\n",
       "    </tr>\n",
       "    <tr>\n",
       "      <th>26048</th>\n",
       "      <td>P07_04_1</td>\n",
       "      <td>P07</td>\n",
       "      <td>P07_04</td>\n",
       "      <td>00:00:15.190</td>\n",
       "      <td>00:00:14.74</td>\n",
       "      <td>00:00:18.04</td>\n",
       "      <td>884</td>\n",
       "      <td>1082</td>\n",
       "      <td>wash forks</td>\n",
       "      <td>wash</td>\n",
       "      <td>2</td>\n",
       "      <td>fork</td>\n",
       "      <td>14</td>\n",
       "      <td>['fork']</td>\n",
       "      <td>[14]</td>\n",
       "    </tr>\n",
       "    <tr>\n",
       "      <th>26049</th>\n",
       "      <td>P07_04_10</td>\n",
       "      <td>P07</td>\n",
       "      <td>P07_04</td>\n",
       "      <td>00:01:01.360</td>\n",
       "      <td>00:00:59.61</td>\n",
       "      <td>00:01:07.72</td>\n",
       "      <td>3576</td>\n",
       "      <td>4063</td>\n",
       "      <td>rinse plate</td>\n",
       "      <td>rinse</td>\n",
       "      <td>2</td>\n",
       "      <td>plate</td>\n",
       "      <td>2</td>\n",
       "      <td>['plate']</td>\n",
       "      <td>[2]</td>\n",
       "    </tr>\n",
       "    <tr>\n",
       "      <th>26050</th>\n",
       "      <td>P07_04_100</td>\n",
       "      <td>P07</td>\n",
       "      <td>P07_04</td>\n",
       "      <td>00:08:09.139</td>\n",
       "      <td>00:08:09.72</td>\n",
       "      <td>00:08:11.24</td>\n",
       "      <td>29383</td>\n",
       "      <td>29474</td>\n",
       "      <td>pour oil in pan</td>\n",
       "      <td>pour-in</td>\n",
       "      <td>9</td>\n",
       "      <td>oil</td>\n",
       "      <td>31</td>\n",
       "      <td>['oil', 'pan']</td>\n",
       "      <td>[31, 5]</td>\n",
       "    </tr>\n",
       "    <tr>\n",
       "      <th>26051</th>\n",
       "      <td>P07_04_101</td>\n",
       "      <td>P07</td>\n",
       "      <td>P07_04</td>\n",
       "      <td>00:08:14.689</td>\n",
       "      <td>00:08:27.82</td>\n",
       "      <td>00:08:30.17</td>\n",
       "      <td>30469</td>\n",
       "      <td>30610</td>\n",
       "      <td>open packaging</td>\n",
       "      <td>open</td>\n",
       "      <td>3</td>\n",
       "      <td>packaging</td>\n",
       "      <td>26</td>\n",
       "      <td>['packaging']</td>\n",
       "      <td>[26]</td>\n",
       "    </tr>\n",
       "  </tbody>\n",
       "</table>\n",
       "</div>"
      ],
      "text/plain": [
       "      narration_id participant_id video_id narration_timestamp  \\\n",
       "26047     P07_04_0            P07   P07_04        00:00:08.180   \n",
       "26048     P07_04_1            P07   P07_04        00:00:15.190   \n",
       "26049    P07_04_10            P07   P07_04        00:01:01.360   \n",
       "26050   P07_04_100            P07   P07_04        00:08:09.139   \n",
       "26051   P07_04_101            P07   P07_04        00:08:14.689   \n",
       "\n",
       "      start_timestamp stop_timestamp  start_frame  stop_frame  \\\n",
       "26047     00:00:07.58    00:00:13.58          454         814   \n",
       "26048     00:00:14.74    00:00:18.04          884        1082   \n",
       "26049     00:00:59.61    00:01:07.72         3576        4063   \n",
       "26050     00:08:09.72    00:08:11.24        29383       29474   \n",
       "26051     00:08:27.82    00:08:30.17        30469       30610   \n",
       "\n",
       "             narration     verb  verb_class       noun  noun_class  \\\n",
       "26047       wash forks     wash           2       fork          14   \n",
       "26048       wash forks     wash           2       fork          14   \n",
       "26049      rinse plate    rinse           2      plate           2   \n",
       "26050  pour oil in pan  pour-in           9        oil          31   \n",
       "26051   open packaging     open           3  packaging          26   \n",
       "\n",
       "            all_nouns all_noun_classes  \n",
       "26047        ['fork']             [14]  \n",
       "26048        ['fork']             [14]  \n",
       "26049       ['plate']              [2]  \n",
       "26050  ['oil', 'pan']          [31, 5]  \n",
       "26051   ['packaging']             [26]  "
      ]
     },
     "execution_count": 54,
     "metadata": {},
     "output_type": "execute_result"
    }
   ],
   "source": [
    "new_df = df[df[\"video_id\"] == OVERALL_ID]\n",
    "new_df.head()"
   ]
  },
  {
   "cell_type": "code",
   "execution_count": 55,
   "metadata": {},
   "outputs": [],
   "source": [
    "new_df = new_df.copy()\n",
    "new_df[\"start_time\"] = pd.to_datetime(new_df[\"start_timestamp\"])"
   ]
  },
  {
   "cell_type": "code",
   "execution_count": 56,
   "metadata": {},
   "outputs": [],
   "source": [
    "sorted_new_df = new_df.sort_values(\"start_time\").reset_index()"
   ]
  },
  {
   "cell_type": "code",
   "execution_count": 57,
   "metadata": {},
   "outputs": [],
   "source": [
    "with open(f'./{USER_ID}_subs/{OVERALL_ID}.srt', 'w') as sf:\n",
    "    for index, row in sorted_new_df.iterrows():\n",
    "        sf.write(f\"{index + 1}\\n\")\n",
    "        sf.write(f'{row[\"start_timestamp\"]} --> {row[\"stop_timestamp\"]}\\n')\n",
    "        sf.write(f'{row[\"narration\"]}\\n\\n')\n"
   ]
  },
  {
   "cell_type": "code",
   "execution_count": null,
   "metadata": {},
   "outputs": [],
   "source": []
  },
  {
   "cell_type": "code",
   "execution_count": null,
   "metadata": {},
   "outputs": [],
   "source": []
  },
  {
   "cell_type": "code",
   "execution_count": null,
   "metadata": {},
   "outputs": [],
   "source": []
  }
 ],
 "metadata": {
  "kernelspec": {
   "display_name": "Python 3 (ipykernel)",
   "language": "python",
   "name": "python3"
  },
  "language_info": {
   "codemirror_mode": {
    "name": "ipython",
    "version": 3
   },
   "file_extension": ".py",
   "mimetype": "text/x-python",
   "name": "python",
   "nbconvert_exporter": "python",
   "pygments_lexer": "ipython3",
   "version": "3.8.10"
  },
  "vscode": {
   "interpreter": {
    "hash": "d79f75677cd3093c48103dcb88ce6c3690cdcc95e96a4e0cf5603a5cf721c95e"
   }
  }
 },
 "nbformat": 4,
 "nbformat_minor": 2
}
